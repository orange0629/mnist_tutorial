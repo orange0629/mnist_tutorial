{
 "cells": [
  {
   "cell_type": "markdown",
   "metadata": {},
   "source": [
    "# Pytorch Tutorial"
   ]
  },
  {
   "cell_type": "markdown",
   "metadata": {},
   "source": [
    "Pytorch is a popular deep learning framework and it's easy to get started."
   ]
  },
  {
   "cell_type": "code",
   "execution_count": 77,
   "metadata": {
    "collapsed": true
   },
   "outputs": [],
   "source": [
    "import torch\n",
    "import torch.nn as nn\n",
    "import torch.utils.data as data\n",
    "import torchvision\n",
    "import torchvision.transforms as transforms\n",
    "from tqdm import tqdm\n",
    "import time\n",
    "\n",
    "BATCH_SIZE = 128\n",
    "NUM_EPOCHS = 10"
   ]
  },
  {
   "cell_type": "markdown",
   "metadata": {},
   "source": [
    "First, we read the mnist data, preprocess them and encapsulate them into dataloader form."
   ]
  },
  {
   "cell_type": "code",
   "execution_count": 78,
   "metadata": {
    "collapsed": true
   },
   "outputs": [],
   "source": [
    "# preprocessing\n",
    "normalize = transforms.Normalize(mean=[.5], std=[.5])\n",
    "transform = transforms.Compose([transforms.ToTensor(), normalize])\n",
    "\n",
    "# download and load the data\n",
    "train_dataset = torchvision.datasets.MNIST(root='./mnist/', train=True, transform=transform, download=True)\n",
    "test_dataset = torchvision.datasets.MNIST(root='./mnist/', train=False, transform=transform, download=False)\n",
    "\n",
    "# encapsulate them into dataloader form\n",
    "train_loader = data.DataLoader(train_dataset, batch_size=BATCH_SIZE, shuffle=True, drop_last=True)\n",
    "test_loader = data.DataLoader(test_dataset, batch_size=BATCH_SIZE, shuffle=False, drop_last=True)\n",
    "\n"
   ]
  },
  {
   "cell_type": "markdown",
   "metadata": {},
   "source": [
    "Then, we define the model, object function and optimizer that we use to classify."
   ]
  },
  {
   "cell_type": "code",
   "execution_count": 79,
   "metadata": {
    "collapsed": true
   },
   "outputs": [],
   "source": [
    "class SimpleNet(nn.Module):\n",
    "# TODO:define model\n",
    "    def __init__(self):\n",
    "        super(SimpleNet, self).__init__()\n",
    "        self.fc1 = nn.Linear(28 * 28, 256)\n",
    "        self.fc2 = nn.Linear(256, 64)\n",
    "        self.fc3 = nn.Linear(64, 10)\n",
    "\n",
    "    def forward(self, x):\n",
    "        x = nn.functional.relu(self.fc1(x))\n",
    "        x = nn.functional.relu(self.fc2(x))\n",
    "        x = nn.functional.sigmoid(self.fc3(x))\n",
    "        return x\n",
    "    \n",
    "model = SimpleNet()\n",
    "\n",
    "# TODO:define loss function and optimiter\n",
    "criterion = nn.CrossEntropyLoss()\n",
    "optimizer = torch.optim.SGD(model.parameters(), lr=0.001, momentum=0.9)"
   ]
  },
  {
   "cell_type": "markdown",
   "metadata": {},
   "source": [
    "Next, we can start to train and evaluate!"
   ]
  },
  {
   "cell_type": "code",
   "execution_count": 80,
   "metadata": {
    "collapsed": true,
    "scrolled": true,
    "tags": []
   },
   "outputs": [
    {
     "output_type": "stream",
     "name": "stderr",
     "text": [
      "100%|██████████| 468/468 [00:13<00:00, 35.82it/s]\n",
      "100%|██████████| 468/468 [00:17<00:00, 27.31it/s]\n",
      "100%|██████████| 468/468 [00:16<00:00, 27.57it/s]\n",
      "100%|██████████| 468/468 [00:16<00:00, 28.01it/s]\n",
      "100%|██████████| 468/468 [00:16<00:00, 27.76it/s]\n",
      "100%|██████████| 468/468 [00:16<00:00, 27.81it/s]\n",
      "100%|██████████| 468/468 [00:15<00:00, 30.17it/s]\n",
      "100%|██████████| 468/468 [00:14<00:00, 31.39it/s]\n",
      "100%|██████████| 468/468 [00:15<00:00, 31.10it/s]\n",
      "100%|██████████| 468/468 [00:15<00:00, 31.01it/s]\n",
      "Training accuracy: 84.05%\n",
      "Testing accuracy: 84.88%\n"
     ]
    }
   ],
   "source": [
    "# train and evaluate\n",
    "for epoch in range(NUM_EPOCHS):\n",
    "    running_loss = 0.0\n",
    "    for images, labels in tqdm(train_loader):\n",
    "        # TODO:forward + backward + optimize\n",
    "        images = images.view(images.size(0), 28 * 28)\n",
    "        optimizer.zero_grad()\n",
    "        outputs = model(images)\n",
    "        loss = criterion(outputs, labels)\n",
    "        loss.backward()\n",
    "        optimizer.step()\n",
    "        \n",
    "        \n",
    "        \n",
    "        \n",
    "# evaluate\n",
    "# TODO:calculate the accuracy using traning and testing dataset\n",
    "training_correct = 0\n",
    "for images, labels in train_loader:\n",
    "     images = images.view(images.size(0),28*28)\n",
    "     outputs = model(images)\n",
    "     pred = outputs.argmax(dim = 1)\n",
    "     correct = pred.eq(labels).sum().float().item()  \n",
    "     training_correct += correct\n",
    "train_accuracy = training_correct / len(train_loader.dataset)\n",
    "print('Training accuracy: %0.2f%%' % (train_accuracy*100)) #Training accuracy: 84.58%\n",
    "\n",
    "testing_correct = 0\n",
    "for images, labels in test_loader:\n",
    "    images = images.view(images.size(0),28*28)\n",
    "    outputs = model(images)\n",
    "    pred = outputs.argmax(dim = 1)\n",
    "    correct = pred.eq(labels).sum().float().item()  \n",
    "    testing_correct += correct\n",
    "test_accuracy = testing_correct / len(test_loader.dataset)\n",
    "print('Testing accuracy: %0.2f%%' % (test_accuracy*100)) #Testing accuracy: 85.14%\n",
    "\n",
    "    \n",
    "    \n",
    "    \n"
   ]
  },
  {
   "cell_type": "markdown",
   "metadata": {},
   "source": [
    "#### Q5:\n",
    "Please print the training and testing accuracy."
   ]
  }
 ],
 "metadata": {
  "kernelspec": {
   "name": "python395jvsc74a57bd0b1a32b271b05b001e7e18d7931eb34c020d3e9449687c5a33ad2386bd3953cf3",
   "display_name": "Python 3.9.5 64-bit (windows store)"
  },
  "language_info": {
   "codemirror_mode": {
    "name": "ipython",
    "version": 3
   },
   "file_extension": ".py",
   "mimetype": "text/x-python",
   "name": "python",
   "nbconvert_exporter": "python",
   "pygments_lexer": "ipython3",
   "version": "3.9.5"
  },
  "metadata": {
   "interpreter": {
    "hash": "b1a32b271b05b001e7e18d7931eb34c020d3e9449687c5a33ad2386bd3953cf3"
   }
  }
 },
 "nbformat": 4,
 "nbformat_minor": 2
}